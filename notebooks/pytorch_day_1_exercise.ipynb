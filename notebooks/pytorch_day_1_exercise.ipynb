{
 "cells": [
  {
   "cell_type": "markdown",
   "id": "f184f3f7",
   "metadata": {},
   "source": [
    "## 📅 Day 1: Tensors and Basic Ops"
   ]
  },
  {
   "cell_type": "code",
   "execution_count": 1,
   "id": "28b03062",
   "metadata": {},
   "outputs": [],
   "source": [
    "import torch\n",
    "import numpy as np"
   ]
  },
  {
   "cell_type": "code",
   "execution_count": 3,
   "id": "b9b96e40",
   "metadata": {},
   "outputs": [
    {
     "data": {
      "text/plain": [
       "tensor([[9.1631e-01, 9.3539e-01, 3.9632e-04],\n",
       "        [1.7303e-01, 8.2849e-01, 5.2744e-01]], dtype=torch.float64)"
      ]
     },
     "execution_count": 3,
     "metadata": {},
     "output_type": "execute_result"
    }
   ],
   "source": [
    "# 1. Create tensors of different data types (float, int, bool)\n",
    "size = (2,3,)\n",
    "tensor1 = torch.rand(size, dtype=float)\n",
    "tensor1"
   ]
  },
  {
   "cell_type": "code",
   "execution_count": 6,
   "id": "5bbb1c46",
   "metadata": {},
   "outputs": [
    {
     "data": {
      "text/plain": [
       "tensor([[4, 5, 4],\n",
       "        [9, 4, 8]])"
      ]
     },
     "execution_count": 6,
     "metadata": {},
     "output_type": "execute_result"
    }
   ],
   "source": [
    "tensor2 = torch.randint(10, size, dtype=int)\n",
    "tensor2"
   ]
  },
  {
   "cell_type": "code",
   "execution_count": 9,
   "id": "ee419de9",
   "metadata": {},
   "outputs": [
    {
     "data": {
      "text/plain": [
       "tensor([[False, False, False],\n",
       "        [ True,  True,  True]])"
      ]
     },
     "execution_count": 9,
     "metadata": {},
     "output_type": "execute_result"
    }
   ],
   "source": [
    "tensor3 = torch.randint(2, size, dtype=bool)\n",
    "tensor3"
   ]
  },
  {
   "cell_type": "code",
   "execution_count": 10,
   "id": "5a91a81f",
   "metadata": {},
   "outputs": [
    {
     "data": {
      "text/plain": [
       "tensor([[1, 2, 3],\n",
       "        [4, 5, 6]])"
      ]
     },
     "execution_count": 10,
     "metadata": {},
     "output_type": "execute_result"
    }
   ],
   "source": [
    "# 2. Convert NumPy array to tensor and back\n",
    "data = np.array([[1, 2, 3], [4, 5, 6]])\n",
    "tensor_from_numpy = torch.from_numpy(data)\n",
    "tensor_from_numpy"
   ]
  },
  {
   "cell_type": "code",
   "execution_count": 11,
   "id": "be6fcfb6",
   "metadata": {},
   "outputs": [
    {
     "data": {
      "text/plain": [
       "array([[1, 2, 3],\n",
       "       [4, 5, 6]])"
      ]
     },
     "execution_count": 11,
     "metadata": {},
     "output_type": "execute_result"
    }
   ],
   "source": [
    "numpy_from_tensor = tensor_from_numpy.numpy()\n",
    "numpy_from_tensor"
   ]
  },
  {
   "cell_type": "code",
   "execution_count": 12,
   "id": "0a29bb51",
   "metadata": {},
   "outputs": [
    {
     "data": {
      "text/plain": [
       "tensor([9.1631e-01, 9.3539e-01, 3.9632e-04, 1.7303e-01, 8.2849e-01, 5.2744e-01],\n",
       "       dtype=torch.float64)"
      ]
     },
     "execution_count": 12,
     "metadata": {},
     "output_type": "execute_result"
    }
   ],
   "source": [
    "# 3. Try reshaping, slicing, element-wise ops\n",
    "torch.reshape(tensor1, (-1,))"
   ]
  },
  {
   "cell_type": "code",
   "execution_count": 13,
   "id": "f1f9f3ec",
   "metadata": {},
   "outputs": [
    {
     "data": {
      "text/plain": [
       "tensor([[0.5012, 0.9071, 0.9946, 0.8919, 0.2697, 0.5361],\n",
       "        [0.6428, 0.7781, 0.4105, 0.0443, 0.0461, 0.5183]], dtype=torch.float64)"
      ]
     },
     "execution_count": 13,
     "metadata": {},
     "output_type": "execute_result"
    }
   ],
   "source": [
    "tensor11=torch.rand((3,4,), dtype=float)\n",
    "torch.reshape(tensor11, (2,6,))"
   ]
  },
  {
   "cell_type": "code",
   "execution_count": 14,
   "id": "3245b6fd",
   "metadata": {},
   "outputs": [
    {
     "data": {
      "text/plain": [
       "tensor([0.5012, 0.2697, 0.4105], dtype=torch.float64)"
      ]
     },
     "execution_count": 14,
     "metadata": {},
     "output_type": "execute_result"
    }
   ],
   "source": [
    "tensor11[:,0]"
   ]
  },
  {
   "cell_type": "code",
   "execution_count": 22,
   "id": "c15e5133",
   "metadata": {},
   "outputs": [
    {
     "data": {
      "text/plain": [
       "tensor([[1, 1, 3, 1],\n",
       "        [2, 0, 1, 2],\n",
       "        [0, 4, 1, 2]])"
      ]
     },
     "execution_count": 22,
     "metadata": {},
     "output_type": "execute_result"
    }
   ],
   "source": [
    "tensor12=torch.randint(8, (3,4,))\n",
    "tensor12"
   ]
  },
  {
   "cell_type": "code",
   "execution_count": 30,
   "id": "29969557",
   "metadata": {},
   "outputs": [
    {
     "data": {
      "text/plain": [
       "(torch.float32, torch.float64)"
      ]
     },
     "execution_count": 30,
     "metadata": {},
     "output_type": "execute_result"
    }
   ],
   "source": [
    "tensor12.float().dtype, tensor11.dtype"
   ]
  },
  {
   "cell_type": "code",
   "execution_count": 29,
   "id": "296cbb2e",
   "metadata": {},
   "outputs": [
    {
     "data": {
      "text/plain": [
       "tensor([[5.2838, 3.7806, 6.4067],\n",
       "        [3.5123, 2.7385, 4.3435],\n",
       "        [1.1115, 1.9039, 1.2602]], dtype=torch.float64)"
      ]
     },
     "execution_count": 29,
     "metadata": {},
     "output_type": "execute_result"
    }
   ],
   "source": [
    "tensor12_float = tensor12.to(torch.float64)\n",
    "tensor11.matmul(tensor12_float.T)"
   ]
  },
  {
   "cell_type": "code",
   "execution_count": 31,
   "id": "cf9175bd",
   "metadata": {},
   "outputs": [
    {
     "data": {
      "text/plain": [
       "tensor([[0.5012, 0.9071, 2.9837, 0.8919],\n",
       "        [0.5394, 0.0000, 0.6428, 1.5563],\n",
       "        [0.0000, 0.1774, 0.0461, 1.0367]], dtype=torch.float64)"
      ]
     },
     "execution_count": 31,
     "metadata": {},
     "output_type": "execute_result"
    }
   ],
   "source": [
    "tensor11 * tensor12_float"
   ]
  },
  {
   "cell_type": "code",
   "execution_count": 32,
   "id": "ef15536b",
   "metadata": {},
   "outputs": [
    {
     "data": {
      "text/plain": [
       "device(type='mps')"
      ]
     },
     "execution_count": 32,
     "metadata": {},
     "output_type": "execute_result"
    }
   ],
   "source": [
    "torch.accelerator.current_accelerator()"
   ]
  },
  {
   "cell_type": "code",
   "execution_count": 34,
   "id": "800a5878",
   "metadata": {},
   "outputs": [
    {
     "data": {
      "text/plain": [
       "tensor([[0.5012, 0.9071, 0.9946, 0.8919],\n",
       "        [0.2697, 0.5361, 0.6428, 0.7781],\n",
       "        [0.4105, 0.0443, 0.0461, 0.5183],\n",
       "        [1.0000, 1.0000, 3.0000, 1.0000],\n",
       "        [2.0000, 0.0000, 1.0000, 2.0000],\n",
       "        [0.0000, 4.0000, 1.0000, 2.0000]], dtype=torch.float64)"
      ]
     },
     "execution_count": 34,
     "metadata": {},
     "output_type": "execute_result"
    }
   ],
   "source": [
    "# 4. Practice broadcasting rules\n",
    "torch.cat((tensor11, tensor12))"
   ]
  },
  {
   "cell_type": "code",
   "execution_count": 35,
   "id": "2c65de29",
   "metadata": {},
   "outputs": [
    {
     "data": {
      "text/plain": [
       "tensor([[[0.5012, 0.9071, 0.9946, 0.8919],\n",
       "         [0.2697, 0.5361, 0.6428, 0.7781],\n",
       "         [0.4105, 0.0443, 0.0461, 0.5183]],\n",
       "\n",
       "        [[1.0000, 1.0000, 3.0000, 1.0000],\n",
       "         [2.0000, 0.0000, 1.0000, 2.0000],\n",
       "         [0.0000, 4.0000, 1.0000, 2.0000]]], dtype=torch.float64)"
      ]
     },
     "execution_count": 35,
     "metadata": {},
     "output_type": "execute_result"
    }
   ],
   "source": [
    "torch.stack((tensor11, tensor12))"
   ]
  },
  {
   "cell_type": "code",
   "execution_count": 36,
   "id": "4f4550ea",
   "metadata": {},
   "outputs": [
    {
     "data": {
      "text/plain": [
       "tensor([[[0.5012, 0.9071, 0.9946, 0.8919],\n",
       "         [1.0000, 1.0000, 3.0000, 1.0000]],\n",
       "\n",
       "        [[0.2697, 0.5361, 0.6428, 0.7781],\n",
       "         [2.0000, 0.0000, 1.0000, 2.0000]],\n",
       "\n",
       "        [[0.4105, 0.0443, 0.0461, 0.5183],\n",
       "         [0.0000, 4.0000, 1.0000, 2.0000]]], dtype=torch.float64)"
      ]
     },
     "execution_count": 36,
     "metadata": {},
     "output_type": "execute_result"
    }
   ],
   "source": [
    "torch.stack((tensor11, tensor12), dim=1)"
   ]
  },
  {
   "cell_type": "code",
   "execution_count": 37,
   "id": "852587c2",
   "metadata": {},
   "outputs": [
    {
     "data": {
      "text/plain": [
       "tensor([[[1.5012, 1.9071, 3.9946, 1.8919],\n",
       "         [2.2697, 0.5361, 1.6428, 2.7781],\n",
       "         [0.4105, 4.0443, 1.0461, 2.5183]],\n",
       "\n",
       "        [[2.0000, 2.0000, 6.0000, 2.0000],\n",
       "         [4.0000, 0.0000, 2.0000, 4.0000],\n",
       "         [0.0000, 8.0000, 2.0000, 4.0000]]], dtype=torch.float64)"
      ]
     },
     "execution_count": 37,
     "metadata": {},
     "output_type": "execute_result"
    }
   ],
   "source": [
    "# Broadcasted addition\n",
    "tensor_stack = torch.stack((tensor11, tensor12))\n",
    "tensor12 + tensor_stack"
   ]
  },
  {
   "cell_type": "code",
   "execution_count": 39,
   "id": "69f44293",
   "metadata": {},
   "outputs": [
    {
     "data": {
      "text/plain": [
       "tensor([[11, 12, 13],\n",
       "        [21, 22, 23]])"
      ]
     },
     "execution_count": 39,
     "metadata": {},
     "output_type": "execute_result"
    }
   ],
   "source": [
    "a = torch.tensor([1, 2, 3])       # shape (3,)\n",
    "b = torch.tensor([[10], [20]])    # shape (2,1)\n",
    "a+b"
   ]
  },
  {
   "cell_type": "code",
   "execution_count": 41,
   "id": "33789929",
   "metadata": {},
   "outputs": [
    {
     "data": {
      "text/plain": [
       "(tensor([[0],\n",
       "         [4],\n",
       "         [4],\n",
       "         [1]]),\n",
       " tensor([[3, 2, 4, 2, 0]]),\n",
       " tensor([[3, 2, 4, 2, 0],\n",
       "         [7, 6, 8, 6, 4],\n",
       "         [7, 6, 8, 6, 4],\n",
       "         [4, 3, 5, 3, 1]]))"
      ]
     },
     "execution_count": 41,
     "metadata": {},
     "output_type": "execute_result"
    }
   ],
   "source": [
    "# adding a (4,1) tensor to a (1,5) tensor\n",
    "a = torch.randint(5, (4,1))\n",
    "b = torch.randint(5, (1,5))\n",
    "a, b, a+b"
   ]
  },
  {
   "cell_type": "code",
   "execution_count": 42,
   "id": "82264394",
   "metadata": {},
   "outputs": [
    {
     "data": {
      "text/plain": [
       "(tensor([[0.9749, 0.7367, 0.1567],\n",
       "         [0.1597, 0.1053, 0.3956]]),\n",
       " tensor([[4.8747, 3.6834, 0.7833],\n",
       "         [0.7986, 0.5264, 1.9780]]))"
      ]
     },
     "execution_count": 42,
     "metadata": {},
     "output_type": "execute_result"
    }
   ],
   "source": [
    "# Multiply a (2,3) matrix by a scalar ( )\n",
    "a = torch.rand((2,3))\n",
    "a, a*5"
   ]
  },
  {
   "cell_type": "code",
   "execution_count": 45,
   "id": "0e919cec",
   "metadata": {},
   "outputs": [
    {
     "ename": "RuntimeError",
     "evalue": "The size of tensor a (2) must match the size of tensor b (3) at non-singleton dimension 0",
     "output_type": "error",
     "traceback": [
      "\u001b[31m---------------------------------------------------------------------------\u001b[39m",
      "\u001b[31mRuntimeError\u001b[39m                              Traceback (most recent call last)",
      "\u001b[36mCell\u001b[39m\u001b[36m \u001b[39m\u001b[32mIn[45]\u001b[39m\u001b[32m, line 3\u001b[39m\n\u001b[32m      1\u001b[39m \u001b[38;5;66;03m# Add a (2,3) matrix and a (3,) vector\u001b[39;00m\n\u001b[32m      2\u001b[39m b = torch.tensor([[\u001b[32m1\u001b[39m],[\u001b[32m0\u001b[39m], [-\u001b[32m1\u001b[39m]])\n\u001b[32m----> \u001b[39m\u001b[32m3\u001b[39m \u001b[43ma\u001b[49m\u001b[43m+\u001b[49m\u001b[43mb\u001b[49m\n",
      "\u001b[31mRuntimeError\u001b[39m: The size of tensor a (2) must match the size of tensor b (3) at non-singleton dimension 0"
     ]
    }
   ],
   "source": [
    "# Add a (2,3) matrix and a (3,) vector\n",
    "b = torch.tensor([[1],[0], [-1]])\n",
    "a+b"
   ]
  },
  {
   "cell_type": "code",
   "execution_count": 47,
   "id": "a7cd0560",
   "metadata": {},
   "outputs": [
    {
     "data": {
      "text/plain": [
       "tensor([[1.5178, 0.2953],\n",
       "        [0.2953, 0.1931]])"
      ]
     },
     "execution_count": 47,
     "metadata": {},
     "output_type": "execute_result"
    }
   ],
   "source": [
    "# 5. Compare tensor operations vs NumPy operations\n",
    "a @ a.T"
   ]
  },
  {
   "cell_type": "code",
   "execution_count": 48,
   "id": "650c918a",
   "metadata": {},
   "outputs": [
    {
     "data": {
      "text/plain": [
       "array([[1.5177606 , 0.2952602 ],\n",
       "       [0.2952602 , 0.19309768]], dtype=float32)"
      ]
     },
     "execution_count": 48,
     "metadata": {},
     "output_type": "execute_result"
    }
   ],
   "source": [
    "a_numpy = a.numpy()\n",
    "a_numpy @ a_numpy.T"
   ]
  },
  {
   "cell_type": "code",
   "execution_count": 49,
   "id": "e0fa44fd",
   "metadata": {},
   "outputs": [
    {
     "data": {
      "text/plain": [
       "(tensor(2.5289), 2.528902053833008)"
      ]
     },
     "execution_count": 49,
     "metadata": {},
     "output_type": "execute_result"
    }
   ],
   "source": [
    "a.sum(), a.sum().item()"
   ]
  },
  {
   "cell_type": "code",
   "execution_count": null,
   "id": "36c425e8",
   "metadata": {},
   "outputs": [
    {
     "data": {
      "text/plain": [
       "False"
      ]
     },
     "execution_count": 51,
     "metadata": {},
     "output_type": "execute_result"
    }
   ],
   "source": [
    "# check if cuda available\n",
    "torch.cuda.is_available()"
   ]
  },
  {
   "cell_type": "code",
   "execution_count": 52,
   "id": "b9561919",
   "metadata": {},
   "outputs": [],
   "source": [
    "# Move tensor to accelerator\n",
    "if torch.accelerator.is_available():\n",
    "    a = a.to(torch.accelerator.current_accelerator())"
   ]
  },
  {
   "cell_type": "code",
   "execution_count": 53,
   "id": "ff8ba89a",
   "metadata": {},
   "outputs": [
    {
     "data": {
      "text/plain": [
       "(torch.Size([2, 3]), device(type='mps', index=0))"
      ]
     },
     "execution_count": 53,
     "metadata": {},
     "output_type": "execute_result"
    }
   ],
   "source": [
    "a.shape, a.device"
   ]
  },
  {
   "cell_type": "code",
   "execution_count": 54,
   "id": "1ee234ed",
   "metadata": {},
   "outputs": [
    {
     "data": {
      "text/plain": [
       "tensor([[0.5107, 0.9003, 0.5887, 0.0647],\n",
       "        [0.1808, 0.3924, 0.2039, 0.0359],\n",
       "        [0.9799, 0.3536, 0.5866, 0.8187]], dtype=torch.float64)"
      ]
     },
     "execution_count": 54,
     "metadata": {},
     "output_type": "execute_result"
    }
   ],
   "source": [
    "# - Normalize a 2D tensor (mean 0, std 1)\n",
    "a = torch.rand((3,4,), dtype=float)\n",
    "a"
   ]
  },
  {
   "cell_type": "code",
   "execution_count": 55,
   "id": "9f57602c",
   "metadata": {},
   "outputs": [
    {
     "data": {
      "text/plain": [
       "(tensor(0.4680, dtype=torch.float64), tensor(0.1021, dtype=torch.float64))"
      ]
     },
     "execution_count": 55,
     "metadata": {},
     "output_type": "execute_result"
    }
   ],
   "source": [
    "a.mean(), a.var()"
   ]
  },
  {
   "cell_type": "code",
   "execution_count": 56,
   "id": "e59aa195",
   "metadata": {},
   "outputs": [
    {
     "name": "stderr",
     "output_type": "stream",
     "text": [
      "/var/folders/hg/7ml395w169dbrcxqhmh9wfmw0000gn/T/ipykernel_16500/89870519.py:1: DeprecationWarning: __array_wrap__ must accept context and return_scalar arguments (positionally) in the future. (Deprecated NumPy 2.0)\n",
      "  (a- a.mean())/np.sqrt(a.var())\n"
     ]
    },
    {
     "data": {
      "text/plain": [
       "tensor([[ 0.1335,  1.3532,  0.3778, -1.2623],\n",
       "        [-0.8989, -0.2366, -0.8268, -1.3525],\n",
       "        [ 1.6022, -0.3583,  0.3712,  1.0976]], dtype=torch.float64)"
      ]
     },
     "execution_count": 56,
     "metadata": {},
     "output_type": "execute_result"
    }
   ],
   "source": [
    "(a- a.mean())/np.sqrt(a.var())"
   ]
  },
  {
   "cell_type": "code",
   "execution_count": 59,
   "id": "fff0d563",
   "metadata": {},
   "outputs": [
    {
     "data": {
      "text/plain": [
       "(tensor([2.0645, 0.8130, 2.7388], dtype=torch.float64),\n",
       " tensor([1.6714, 1.6463, 1.3792, 0.9193], dtype=torch.float64),\n",
       " tensor([2.0645, 0.8130, 2.7388], dtype=torch.float64))"
      ]
     },
     "execution_count": 59,
     "metadata": {},
     "output_type": "execute_result"
    }
   ],
   "source": [
    "# - Compute row-wise and column-wise sums\n",
    "a.sum(dim=1), a.sum(dim=0), a.sum(dim=-1)"
   ]
  },
  {
   "cell_type": "code",
   "execution_count": 61,
   "id": "0dd5729e",
   "metadata": {},
   "outputs": [
    {
     "data": {
      "text/plain": [
       "tensor([[ 1.7568, -0.1868, -0.7319,  0.9211],\n",
       "        [ 0.1417,  1.0042,  0.3004, -0.6295],\n",
       "        [-0.0215,  1.1538, -0.2253,  2.0352]], dtype=torch.float64)"
      ]
     },
     "execution_count": 61,
     "metadata": {},
     "output_type": "execute_result"
    }
   ],
   "source": [
    "# - Add Gaussian noise to a tensor\n",
    "b = torch.randn((3,4,))\n",
    "a + b"
   ]
  },
  {
   "cell_type": "code",
   "execution_count": 74,
   "id": "08b2eefc",
   "metadata": {},
   "outputs": [
    {
     "data": {
      "text/plain": [
       "tensor(-1.0644, dtype=torch.float64)"
      ]
     },
     "execution_count": 74,
     "metadata": {},
     "output_type": "execute_result"
    }
   ],
   "source": [
    "bt = b.T\n",
    "bt = bt.type_as(a)\n",
    "\n",
    "a[0,:]@bt[:,0]"
   ]
  },
  {
   "cell_type": "code",
   "execution_count": 79,
   "id": "487b2c5e",
   "metadata": {},
   "outputs": [
    {
     "data": {
      "text/plain": [
       "tensor([[-1.0644,  0.5446, -0.1901],\n",
       "        [-0.4397,  0.2288,  0.0112],\n",
       "        [ 0.7632, -0.3102, -0.1787]])"
      ]
     },
     "execution_count": 79,
     "metadata": {},
     "output_type": "execute_result"
    }
   ],
   "source": [
    "# - Implement a dot product manually and compare with torch.matmul\n",
    "dot_product = torch.zeros((3,3,))\n",
    "\n",
    "for i in torch.arange(3):\n",
    "    for j in torch.arange(3):\n",
    "        dot_product[i,j] = a[i,:] @ bt[:,j]\n",
    "\n",
    "dot_product"
   ]
  },
  {
   "cell_type": "code",
   "execution_count": 81,
   "id": "424f6b90",
   "metadata": {},
   "outputs": [
    {
     "data": {
      "text/plain": [
       "tensor([[-1.0644,  0.5446, -0.1901],\n",
       "        [-0.4397,  0.2288,  0.0112],\n",
       "        [ 0.7632, -0.3102, -0.1787]], dtype=torch.float64)"
      ]
     },
     "execution_count": 81,
     "metadata": {},
     "output_type": "execute_result"
    }
   ],
   "source": [
    "matmul = a.matmul(bt)\n",
    "matmul"
   ]
  },
  {
   "cell_type": "code",
   "execution_count": 82,
   "id": "35054d21",
   "metadata": {},
   "outputs": [
    {
     "data": {
      "text/plain": [
       "tensor([[-1.0644,  0.5446, -0.1901],\n",
       "        [-0.4397,  0.2288,  0.0112],\n",
       "        [ 0.7632, -0.3102, -0.1787]], dtype=torch.float64)"
      ]
     },
     "execution_count": 82,
     "metadata": {},
     "output_type": "execute_result"
    }
   ],
   "source": [
    "# compare two tensors\n",
    "dot_product = dot_product.type_as(matmul)\n",
    "dot_product"
   ]
  },
  {
   "cell_type": "code",
   "execution_count": 84,
   "id": "48e9f0d0",
   "metadata": {},
   "outputs": [
    {
     "data": {
      "text/plain": [
       "False"
      ]
     },
     "execution_count": 84,
     "metadata": {},
     "output_type": "execute_result"
    }
   ],
   "source": [
    "torch.equal(dot_product, matmul)"
   ]
  },
  {
   "cell_type": "code",
   "execution_count": 88,
   "id": "123da004",
   "metadata": {},
   "outputs": [
    {
     "data": {
      "text/plain": [
       "True"
      ]
     },
     "execution_count": 88,
     "metadata": {},
     "output_type": "execute_result"
    }
   ],
   "source": [
    "torch.allclose(dot_product, matmul, atol=1e-8)"
   ]
  },
  {
   "cell_type": "code",
   "execution_count": 89,
   "id": "8ce366ca",
   "metadata": {},
   "outputs": [
    {
     "data": {
      "text/plain": [
       "tensor([[0.6839, 0.3392, 0.7149],\n",
       "        [0.3401, 0.7629, 0.0354],\n",
       "        [0.1993, 0.8161, 0.9728]], dtype=torch.float64)"
      ]
     },
     "execution_count": 89,
     "metadata": {},
     "output_type": "execute_result"
    }
   ],
   "source": [
    "# - Generate a random 3x3 matrix and compute determinant & inverse\n",
    "mat = torch.rand((3,3,), dtype=float)\n",
    "mat"
   ]
  },
  {
   "cell_type": "code",
   "execution_count": 90,
   "id": "5539ae12",
   "metadata": {},
   "outputs": [
    {
     "data": {
      "text/plain": [
       "tensor([[ 1.5249,  0.5419, -1.1404],\n",
       "        [-0.6922,  1.1178,  0.4681],\n",
       "        [ 0.2684, -1.0488,  0.8689]], dtype=torch.float64)"
      ]
     },
     "execution_count": 90,
     "metadata": {},
     "output_type": "execute_result"
    }
   ],
   "source": [
    "mat.inverse()"
   ]
  },
  {
   "cell_type": "code",
   "execution_count": 91,
   "id": "c67a8286",
   "metadata": {},
   "outputs": [
    {
     "data": {
      "text/plain": [
       "tensor(0.4677, dtype=torch.float64)"
      ]
     },
     "execution_count": 91,
     "metadata": {},
     "output_type": "execute_result"
    }
   ],
   "source": [
    "mat.det()"
   ]
  }
 ],
 "metadata": {
  "kernelspec": {
   "display_name": "representation_learning",
   "language": "python",
   "name": "python3"
  },
  "language_info": {
   "codemirror_mode": {
    "name": "ipython",
    "version": 3
   },
   "file_extension": ".py",
   "mimetype": "text/x-python",
   "name": "python",
   "nbconvert_exporter": "python",
   "pygments_lexer": "ipython3",
   "version": "3.11.0"
  }
 },
 "nbformat": 4,
 "nbformat_minor": 5
}
