{
 "cells": [
  {
   "cell_type": "markdown",
   "id": "2f830b22",
   "metadata": {},
   "source": [
    "## 📅 Day 2: Autograd Basics"
   ]
  },
  {
   "cell_type": "code",
   "execution_count": 1,
   "id": "9cc92043",
   "metadata": {},
   "outputs": [],
   "source": [
    "import torch\n",
    "import numpy as np"
   ]
  },
  {
   "cell_type": "code",
   "execution_count": 2,
   "id": "4be550f4",
   "metadata": {},
   "outputs": [
    {
     "name": "stdout",
     "output_type": "stream",
     "text": [
      "Gradient of x: tensor([3.2021, 0.4206, 4.0457])\n"
     ]
    }
   ],
   "source": [
    "x = torch.randn(3, requires_grad=True)\n",
    "y = x**2 + 3*x\n",
    "z = y.sum()\n",
    "z.backward()\n",
    "print(\"Gradient of x:\", x.grad)"
   ]
  },
  {
   "cell_type": "code",
   "execution_count": 16,
   "id": "c0b1afec",
   "metadata": {},
   "outputs": [],
   "source": [
    "# - Create a 2D tensor with requires_grad\n",
    "x1 = torch.randn((3,4), requires_grad=True)"
   ]
  },
  {
   "cell_type": "code",
   "execution_count": 17,
   "id": "c0062857",
   "metadata": {},
   "outputs": [],
   "source": [
    "# - Perform nonlinear transformations (sin, exp, log)\n",
    "y1 = torch.exp(x1)\n",
    "z1 = y1.sum()"
   ]
  },
  {
   "cell_type": "code",
   "execution_count": 18,
   "id": "bc2ed1f9",
   "metadata": {},
   "outputs": [
    {
     "data": {
      "text/plain": [
       "tensor([[0.0554, 1.2574, 3.3953, 1.4568],\n",
       "        [0.9039, 1.8703, 0.9317, 0.4910],\n",
       "        [1.7335, 2.3927, 0.5104, 1.2255]])"
      ]
     },
     "execution_count": 18,
     "metadata": {},
     "output_type": "execute_result"
    }
   ],
   "source": [
    "# - Backprop and inspect gradients\n",
    "z1.backward(retain_graph=True)\n",
    "x1.grad"
   ]
  },
  {
   "cell_type": "code",
   "execution_count": 19,
   "id": "9bc7b2ff",
   "metadata": {},
   "outputs": [
    {
     "data": {
      "text/plain": [
       "(True, True)"
      ]
     },
     "execution_count": 19,
     "metadata": {},
     "output_type": "execute_result"
    }
   ],
   "source": [
    "z1.requires_grad, y1.requires_grad"
   ]
  },
  {
   "cell_type": "code",
   "execution_count": null,
   "id": "22c9c97e",
   "metadata": {},
   "outputs": [
    {
     "data": {
      "text/plain": [
       "tensor([[0.1108, 2.5147, 6.7906, 2.9136],\n",
       "        [1.8078, 3.7406, 1.8634, 0.9819],\n",
       "        [3.4671, 4.7855, 1.0209, 2.4510]])"
      ]
     },
     "execution_count": 20,
     "metadata": {},
     "output_type": "execute_result"
    }
   ],
   "source": [
    "z1.backward(retain_graph=True)\n",
    "x1.grad"
   ]
  },
  {
   "cell_type": "code",
   "execution_count": null,
   "id": "48c80309",
   "metadata": {},
   "outputs": [
    {
     "data": {
      "text/plain": [
       "tensor([[0., 0., 0., 0.],\n",
       "        [0., 0., 0., 0.],\n",
       "        [0., 0., 0., 0.]])"
      ]
     },
     "execution_count": 21,
     "metadata": {},
     "output_type": "execute_result"
    }
   ],
   "source": [
    "# - Zero out gradients and recompute to understand accumulation\n",
    "x1.grad.zero_()"
   ]
  },
  {
   "cell_type": "code",
   "execution_count": 22,
   "id": "e0573f6e",
   "metadata": {},
   "outputs": [
    {
     "data": {
      "text/plain": [
       "tensor([[0.0554, 1.2574, 3.3953, 1.4568],\n",
       "        [0.9039, 1.8703, 0.9317, 0.4910],\n",
       "        [1.7335, 2.3927, 0.5104, 1.2255]])"
      ]
     },
     "execution_count": 22,
     "metadata": {},
     "output_type": "execute_result"
    }
   ],
   "source": [
    "z1.backward(retain_graph=True)\n",
    "x1.grad"
   ]
  },
  {
   "cell_type": "code",
   "execution_count": 27,
   "id": "2fb68a86",
   "metadata": {},
   "outputs": [
    {
     "name": "stdout",
     "output_type": "stream",
     "text": [
      "step 0 | loss=-4.1938 | grad_norm=2.4433\n",
      "step 1 | loss=-4.1938 | grad_norm=4.8867\n",
      "step 2 | loss=-4.1938 | grad_norm=7.3300\n"
     ]
    }
   ],
   "source": [
    "# - Visualize gradient flow by printing .grad after multiple steps\n",
    "x1 = torch.randn((3,4), requires_grad=True)\n",
    "\n",
    "def forward(x1):\n",
    "    return torch.log(torch.nn.functional.softplus(x1) + 1e-6).sum()\n",
    "\n",
    "for i in range(3):\n",
    "    z = forward(x1)\n",
    "    z.backward()\n",
    "    print(f\"step {i} | loss={z.item():.4f} | grad_norm={x1.grad.norm():.4f}\")"
   ]
  },
  {
   "cell_type": "code",
   "execution_count": null,
   "id": "a2489a11",
   "metadata": {},
   "outputs": [
    {
     "name": "stdout",
     "output_type": "stream",
     "text": [
      "step 0 | loss=-4.1938 | grad_norm=2.4433\n",
      "step 1 | loss=-4.1938 | grad_norm=2.4433\n",
      "step 2 | loss=-4.1938 | grad_norm=2.4433\n"
     ]
    }
   ],
   "source": [
    "# resetting x.grad\n",
    "for i in range(3):\n",
    "    x1.grad = None # equivalent to optimizer.zero_grad(set_to_none=True)\n",
    "    z = forward(x1)\n",
    "    z.backward()\n",
    "    print(f\"step {i} | loss={z.item():.4f} | grad_norm={x1.grad.norm():.4f}\")"
   ]
  }
 ],
 "metadata": {
  "kernelspec": {
   "display_name": "representation_learning",
   "language": "python",
   "name": "python3"
  },
  "language_info": {
   "codemirror_mode": {
    "name": "ipython",
    "version": 3
   },
   "file_extension": ".py",
   "mimetype": "text/x-python",
   "name": "python",
   "nbconvert_exporter": "python",
   "pygments_lexer": "ipython3",
   "version": "3.11.0"
  }
 },
 "nbformat": 4,
 "nbformat_minor": 5
}
