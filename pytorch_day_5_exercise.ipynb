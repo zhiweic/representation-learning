{
 "cells": [
  {
   "cell_type": "markdown",
   "id": "e7e2d3d8",
   "metadata": {},
   "source": [
    "## 📅 Day 5: Dataset & Dataloader"
   ]
  },
  {
   "cell_type": "code",
   "execution_count": 2,
   "id": "3597de4b",
   "metadata": {},
   "outputs": [],
   "source": [
    "import torch\n",
    "from torch.utils.data import Dataset, DataLoader\n",
    "\n",
    "class ToyDataset(Dataset):\n",
    "    def __init__(self):\n",
    "        self.x = torch.randn(200, 3)\n",
    "        self.y = (self.x.sum(dim=1) > 0).float()\n",
    "\n",
    "    def __len__(self):\n",
    "        return len(self.x)\n",
    "\n",
    "    def __getitem__(self, idx):\n",
    "        return self.x[idx], self.y[idx]\n",
    "\n",
    "dataset = ToyDataset()\n",
    "dataloader = DataLoader(dataset, batch_size=32, shuffle=True)"
   ]
  },
  {
   "cell_type": "code",
   "execution_count": 3,
   "id": "4654d46f",
   "metadata": {},
   "outputs": [],
   "source": [
    "import pandas as pd"
   ]
  },
  {
   "cell_type": "code",
   "execution_count": 5,
   "id": "1a3755b6",
   "metadata": {},
   "outputs": [],
   "source": [
    "# - Create a custom Dataset for a CSV file\n",
    "data_path = \"/Users/zhiweicai/Desktop/Machine Learning A-Z (Codes and Datasets)/Part 8 - Deep Learning/Section 39 - Artificial Neural Networks (ANN)/Python/Churn_Modelling.csv\"\n",
    "data = pd.read_csv(data_path)"
   ]
  },
  {
   "cell_type": "code",
   "execution_count": 59,
   "id": "7ae7cd28",
   "metadata": {},
   "outputs": [],
   "source": [
    "class ChurnDataset(Dataset):\n",
    "    def __init__(self, data, target='Exited', transform=None, target_transform=None):\n",
    "        self.df = data.reset_index(drop=True)\n",
    "        self.labels = self.df['Exited']\n",
    "        self.features = self.df[[x for x in self.df.columns if x !=target]]\n",
    "        self.transform = transform\n",
    "        self.target_transform = target_transform\n",
    "\n",
    "    def __len__(self):\n",
    "        return len(self.df)\n",
    "    \n",
    "    def __getitem__(self, idx):\n",
    "        label = self.labels.iloc[idx]\n",
    "        features = self.features.iloc[idx]\n",
    "        if self.transform:\n",
    "            features = self.transform(features)\n",
    "        if self.target_transform:\n",
    "            label = self.target_transform(label)\n",
    "        return torch.from_numpy(features.values).float(), torch.tensor(label, dtype=float)"
   ]
  },
  {
   "cell_type": "code",
   "execution_count": 10,
   "id": "0e0122d7",
   "metadata": {},
   "outputs": [],
   "source": [
    "from sklearn.model_selection import train_test_split\n",
    "import numpy as np\n",
    "\n",
    "target = 'Exited'\n",
    "all_idx = np.arange(len(data))\n",
    "train_idx, temp_idx = train_test_split(\n",
    "    all_idx, test_size=0.3, stratify=data[target], random_state=42)\n",
    "\n",
    "val_idx, test_idx = train_test_split(\n",
    "    temp_idx, test_size=0.5,\n",
    "    stratify=data.loc[temp_idx, target], random_state=42)"
   ]
  },
  {
   "cell_type": "code",
   "execution_count": 29,
   "id": "8c93f86a",
   "metadata": {},
   "outputs": [],
   "source": [
    "# - Add data transforms (normalize, standardize)\n",
    "from sklearn.model_selection import train_test_split\n",
    "from sklearn.preprocessing import StandardScaler, OneHotEncoder\n",
    "from sklearn.compose import ColumnTransformer\n",
    "from sklearn.pipeline import Pipeline\n",
    "\n",
    "# Assume df is your churn dataframe\n",
    "drop_cols = [\"RowNumber\", \"CustomerId\", \"Surname\", \"Exited\"]  # drop + target\n",
    "X = data.drop(columns=drop_cols)\n",
    "\n",
    "# Feature groups\n",
    "categorical = [\"Geography\", \"Gender\"]\n",
    "numerical   = [\"CreditScore\", \"Age\", \"Tenure\", \"Balance\", \"NumOfProducts\", \"EstimatedSalary\"]\n",
    "binary      = [\"HasCrCard\", \"IsActiveMember\"]\n",
    "\n",
    "# Preprocessor: scale numerical, one-hot encode categorical, pass through binary\n",
    "preprocessor = ColumnTransformer(\n",
    "    transformers=[\n",
    "        (\"num\", StandardScaler(), numerical),\n",
    "        (\"cat\", OneHotEncoder(drop=\"first\"), categorical),  # drop first to avoid collinearity\n",
    "        (\"bin\", \"passthrough\", binary)\n",
    "    ]\n",
    ")\n",
    "\n",
    "# Wrap into pipeline\n",
    "pipeline = Pipeline(steps=[\n",
    "    (\"preprocess\", preprocessor)\n",
    "])"
   ]
  },
  {
   "cell_type": "code",
   "execution_count": 30,
   "id": "02ef6124",
   "metadata": {},
   "outputs": [
    {
     "data": {
      "text/plain": [
       "array([[-0.57558225, -1.79667873, -0.34947397,  0.31290573, -0.91248301,\n",
       "         1.36251232,  0.        ,  0.        ,  1.        ,  1.        ,\n",
       "         0.        ],\n",
       "       [ 0.39818245,  2.26982524, -1.38692851, -1.22357411,  0.79949262,\n",
       "         1.51547231,  0.        ,  1.        ,  0.        ,  1.        ,\n",
       "         1.        ],\n",
       "       [ 1.69308232, -0.75641027, -1.38692851,  0.68232126, -0.91248301,\n",
       "         0.03895525,  0.        ,  0.        ,  1.        ,  1.        ,\n",
       "         0.        ],\n",
       "       [ 0.74003602, -1.79667873,  0.34216239, -1.22357411,  0.79949262,\n",
       "         1.67144412,  0.        ,  0.        ,  1.        ,  1.        ,\n",
       "         0.        ],\n",
       "       [ 0.9057832 , -1.98581845, -0.34947397, -1.22357411,  0.79949262,\n",
       "        -0.8993836 ,  0.        ,  0.        ,  1.        ,  1.        ,\n",
       "         1.        ]])"
      ]
     },
     "execution_count": 30,
     "metadata": {},
     "output_type": "execute_result"
    }
   ],
   "source": [
    "# Fit only on training\n",
    "X_train = X.iloc[train_idx]\n",
    "X_val = X.iloc[val_idx]\n",
    "X_train_proc = pipeline.fit_transform(X_train)\n",
    "X_val_proc  = pipeline.transform(X_val)\n",
    "X_train_proc[:5]"
   ]
  },
  {
   "cell_type": "code",
   "execution_count": 92,
   "id": "3053548d",
   "metadata": {},
   "outputs": [
    {
     "data": {
      "text/plain": [
       "array([ 3.19997996e-16,  2.31433920e-16, -3.80647894e-17, -9.54157388e-17,\n",
       "        1.20792265e-16])"
      ]
     },
     "execution_count": 92,
     "metadata": {},
     "output_type": "execute_result"
    }
   ],
   "source": [
    "np.array(X_train_proc)[:,:5].mean(axis=0)"
   ]
  },
  {
   "cell_type": "code",
   "execution_count": 37,
   "id": "cf87e242",
   "metadata": {},
   "outputs": [
    {
     "data": {
      "text/plain": [
       "array(['num__CreditScore', 'num__Age', 'num__Tenure', 'num__Balance',\n",
       "       'num__NumOfProducts', 'num__EstimatedSalary',\n",
       "       'cat__Geography_Germany', 'cat__Geography_Spain',\n",
       "       'cat__Gender_Male', 'bin__HasCrCard', 'bin__IsActiveMember'],\n",
       "      dtype=object)"
      ]
     },
     "execution_count": 37,
     "metadata": {},
     "output_type": "execute_result"
    }
   ],
   "source": [
    "pipeline.get_feature_names_out()"
   ]
  },
  {
   "cell_type": "code",
   "execution_count": 49,
   "id": "673e46a9",
   "metadata": {},
   "outputs": [
    {
     "data": {
      "text/html": [
       "<div>\n",
       "<style scoped>\n",
       "    .dataframe tbody tr th:only-of-type {\n",
       "        vertical-align: middle;\n",
       "    }\n",
       "\n",
       "    .dataframe tbody tr th {\n",
       "        vertical-align: top;\n",
       "    }\n",
       "\n",
       "    .dataframe thead th {\n",
       "        text-align: right;\n",
       "    }\n",
       "</style>\n",
       "<table border=\"1\" class=\"dataframe\">\n",
       "  <thead>\n",
       "    <tr style=\"text-align: right;\">\n",
       "      <th></th>\n",
       "      <th>num__CreditScore</th>\n",
       "      <th>num__Age</th>\n",
       "      <th>num__Tenure</th>\n",
       "      <th>num__Balance</th>\n",
       "      <th>num__NumOfProducts</th>\n",
       "      <th>num__EstimatedSalary</th>\n",
       "      <th>cat__Geography_Germany</th>\n",
       "      <th>cat__Geography_Spain</th>\n",
       "      <th>cat__Gender_Male</th>\n",
       "      <th>bin__HasCrCard</th>\n",
       "      <th>bin__IsActiveMember</th>\n",
       "      <th>Exited</th>\n",
       "    </tr>\n",
       "  </thead>\n",
       "  <tbody>\n",
       "    <tr>\n",
       "      <th>0</th>\n",
       "      <td>-0.575582</td>\n",
       "      <td>-1.796679</td>\n",
       "      <td>-0.349474</td>\n",
       "      <td>0.312906</td>\n",
       "      <td>-0.912483</td>\n",
       "      <td>1.362512</td>\n",
       "      <td>0.0</td>\n",
       "      <td>0.0</td>\n",
       "      <td>1.0</td>\n",
       "      <td>1.0</td>\n",
       "      <td>0.0</td>\n",
       "      <td>0</td>\n",
       "    </tr>\n",
       "    <tr>\n",
       "      <th>1</th>\n",
       "      <td>0.398182</td>\n",
       "      <td>2.269825</td>\n",
       "      <td>-1.386929</td>\n",
       "      <td>-1.223574</td>\n",
       "      <td>0.799493</td>\n",
       "      <td>1.515472</td>\n",
       "      <td>0.0</td>\n",
       "      <td>1.0</td>\n",
       "      <td>0.0</td>\n",
       "      <td>1.0</td>\n",
       "      <td>1.0</td>\n",
       "      <td>0</td>\n",
       "    </tr>\n",
       "    <tr>\n",
       "      <th>2</th>\n",
       "      <td>1.693082</td>\n",
       "      <td>-0.756410</td>\n",
       "      <td>-1.386929</td>\n",
       "      <td>0.682321</td>\n",
       "      <td>-0.912483</td>\n",
       "      <td>0.038955</td>\n",
       "      <td>0.0</td>\n",
       "      <td>0.0</td>\n",
       "      <td>1.0</td>\n",
       "      <td>1.0</td>\n",
       "      <td>0.0</td>\n",
       "      <td>0</td>\n",
       "    </tr>\n",
       "    <tr>\n",
       "      <th>3</th>\n",
       "      <td>0.740036</td>\n",
       "      <td>-1.796679</td>\n",
       "      <td>0.342162</td>\n",
       "      <td>-1.223574</td>\n",
       "      <td>0.799493</td>\n",
       "      <td>1.671444</td>\n",
       "      <td>0.0</td>\n",
       "      <td>0.0</td>\n",
       "      <td>1.0</td>\n",
       "      <td>1.0</td>\n",
       "      <td>0.0</td>\n",
       "      <td>0</td>\n",
       "    </tr>\n",
       "    <tr>\n",
       "      <th>4</th>\n",
       "      <td>0.905783</td>\n",
       "      <td>-1.985818</td>\n",
       "      <td>-0.349474</td>\n",
       "      <td>-1.223574</td>\n",
       "      <td>0.799493</td>\n",
       "      <td>-0.899384</td>\n",
       "      <td>0.0</td>\n",
       "      <td>0.0</td>\n",
       "      <td>1.0</td>\n",
       "      <td>1.0</td>\n",
       "      <td>1.0</td>\n",
       "      <td>0</td>\n",
       "    </tr>\n",
       "  </tbody>\n",
       "</table>\n",
       "</div>"
      ],
      "text/plain": [
       "   num__CreditScore  num__Age  num__Tenure  num__Balance  num__NumOfProducts  \\\n",
       "0         -0.575582 -1.796679    -0.349474      0.312906           -0.912483   \n",
       "1          0.398182  2.269825    -1.386929     -1.223574            0.799493   \n",
       "2          1.693082 -0.756410    -1.386929      0.682321           -0.912483   \n",
       "3          0.740036 -1.796679     0.342162     -1.223574            0.799493   \n",
       "4          0.905783 -1.985818    -0.349474     -1.223574            0.799493   \n",
       "\n",
       "   num__EstimatedSalary  cat__Geography_Germany  cat__Geography_Spain  \\\n",
       "0              1.362512                     0.0                   0.0   \n",
       "1              1.515472                     0.0                   1.0   \n",
       "2              0.038955                     0.0                   0.0   \n",
       "3              1.671444                     0.0                   0.0   \n",
       "4             -0.899384                     0.0                   0.0   \n",
       "\n",
       "   cat__Gender_Male  bin__HasCrCard  bin__IsActiveMember  Exited  \n",
       "0               1.0             1.0                  0.0       0  \n",
       "1               0.0             1.0                  1.0       0  \n",
       "2               1.0             1.0                  0.0       0  \n",
       "3               1.0             1.0                  0.0       0  \n",
       "4               1.0             1.0                  1.0       0  "
      ]
     },
     "execution_count": 49,
     "metadata": {},
     "output_type": "execute_result"
    }
   ],
   "source": [
    "X_train_proc = pd.DataFrame(X_train_proc, columns = pipeline.get_feature_names_out()).reset_index(drop=True)\n",
    "X_val_proc = pd.DataFrame(X_val_proc, columns = pipeline.get_feature_names_out()).reset_index(drop=True)\n",
    "df_train = pd.concat([X_train_proc, data[target].iloc[train_idx].reset_index(drop=True)], axis=1)\n",
    "df_val = pd.concat([X_val_proc, data[target].iloc[val_idx].reset_index(drop=True)], axis=1)\n",
    "df_train.head()"
   ]
  },
  {
   "cell_type": "code",
   "execution_count": 60,
   "id": "199444b8",
   "metadata": {},
   "outputs": [],
   "source": [
    "train_ds = ChurnDataset(df_train, target)\n",
    "val_ds   = ChurnDataset(df_val, target)\n",
    "\n",
    "train_loader = DataLoader(train_ds, batch_size=64, shuffle=True)\n",
    "val_loader   = DataLoader(val_ds, batch_size=64, shuffle=False)"
   ]
  },
  {
   "cell_type": "code",
   "execution_count": null,
   "id": "ffdcbb76",
   "metadata": {},
   "outputs": [
    {
     "name": "stdout",
     "output_type": "stream",
     "text": [
      "Feature batch shape: torch.Size([64, 11])\n",
      "Labels batch shape: torch.Size([64])\n"
     ]
    }
   ],
   "source": [
    "train_features, train_labels = next(iter(train_loader))\n",
    "print(f\"Feature batch shape: {train_features.size()}\")\n",
    "print(f\"Labels batch shape: {train_labels.size()}\")"
   ]
  },
  {
   "cell_type": "code",
   "execution_count": 79,
   "id": "8d1968b2",
   "metadata": {},
   "outputs": [
    {
     "name": "stderr",
     "output_type": "stream",
     "text": [
      "/var/folders/hg/7ml395w169dbrcxqhmh9wfmw0000gn/T/ipykernel_49146/3958686750.py:2: DeprecationWarning: __array_wrap__ must accept context and return_scalar arguments (positionally) in the future. (Deprecated NumPy 2.0)\n",
      "  train_features[:,:5].mean(), np.sqrt(train_features[:,:5].var()), train_labels.mean()\n"
     ]
    },
    {
     "data": {
      "text/plain": [
       "(tensor(-0.0420), tensor(1.0060), tensor(0.2500, dtype=torch.float64))"
      ]
     },
     "execution_count": 79,
     "metadata": {},
     "output_type": "execute_result"
    }
   ],
   "source": [
    "# - Inspect a single batch: mean, std, class balance\n",
    "train_features[:,:5].mean(), np.sqrt(train_features[:,:5].var()), train_labels.mean()"
   ]
  },
  {
   "cell_type": "code",
   "execution_count": 76,
   "id": "ad45941b",
   "metadata": {},
   "outputs": [],
   "source": [
    "val_features, _ = next(iter(train_loader))"
   ]
  },
  {
   "cell_type": "code",
   "execution_count": 77,
   "id": "726c0e1c",
   "metadata": {},
   "outputs": [
    {
     "data": {
      "text/plain": [
       "array([ 0.03075462,  0.15677989,  0.01795788,  0.13791603, -0.08324485],\n",
       "      dtype=float32)"
      ]
     },
     "execution_count": 77,
     "metadata": {},
     "output_type": "execute_result"
    }
   ],
   "source": [
    "val_features[:,:5].numpy().mean(axis=0)"
   ]
  },
  {
   "cell_type": "code",
   "execution_count": 78,
   "id": "6d2625fb",
   "metadata": {},
   "outputs": [
    {
     "data": {
      "text/plain": [
       "array([1.0657552, 1.1061819, 0.9328981, 1.0593901, 0.9075181],\n",
       "      dtype=float32)"
      ]
     },
     "execution_count": 78,
     "metadata": {},
     "output_type": "execute_result"
    }
   ],
   "source": [
    "val_features[:,:5].numpy().std(axis=0)"
   ]
  },
  {
   "cell_type": "code",
   "execution_count": 65,
   "id": "2ef9d6d7",
   "metadata": {},
   "outputs": [
    {
     "name": "stdout",
     "output_type": "stream",
     "text": [
      "Feature batch shape: torch.Size([256, 11])\n",
      "Labels batch shape: torch.Size([256])\n"
     ]
    }
   ],
   "source": [
    "train_loader2 = DataLoader(train_ds, batch_size=256, shuffle=True)\n",
    "train_features2, train_labels2 = next(iter(train_loader2))\n",
    "print(f\"Feature batch shape: {train_features2.size()}\")\n",
    "print(f\"Labels batch shape: {train_labels2.size()}\")"
   ]
  },
  {
   "cell_type": "code",
   "execution_count": 66,
   "id": "0deed261",
   "metadata": {},
   "outputs": [
    {
     "name": "stderr",
     "output_type": "stream",
     "text": [
      "/var/folders/hg/7ml395w169dbrcxqhmh9wfmw0000gn/T/ipykernel_49146/1633650202.py:1: DeprecationWarning: __array_wrap__ must accept context and return_scalar arguments (positionally) in the future. (Deprecated NumPy 2.0)\n",
      "  train_features2.mean(), np.sqrt(train_features2.var()), train_labels2.mean()\n"
     ]
    },
    {
     "data": {
      "text/plain": [
       "(tensor(0.1774), tensor(0.8534), tensor(0.2070, dtype=torch.float64))"
      ]
     },
     "execution_count": 66,
     "metadata": {},
     "output_type": "execute_result"
    }
   ],
   "source": [
    "train_features2.mean(), np.sqrt(train_features2.var()), train_labels2.mean()"
   ]
  },
  {
   "cell_type": "code",
   "execution_count": null,
   "id": "81e2f2ba",
   "metadata": {},
   "outputs": [
    {
     "data": {
      "text/plain": [
       "array([1.25583064, 4.9088359 ])"
      ]
     },
     "execution_count": 96,
     "metadata": {},
     "output_type": "execute_result"
    }
   ],
   "source": [
    "# Sampler\n",
    "class_weights = (1/df_train[target].value_counts(normalize=True)).values\n",
    "class_weights"
   ]
  },
  {
   "cell_type": "code",
   "execution_count": 97,
   "id": "4bcee94c",
   "metadata": {},
   "outputs": [
    {
     "data": {
      "text/plain": [
       "array([1.25583064, 1.25583064, 1.25583064, 1.25583064, 1.25583064])"
      ]
     },
     "execution_count": 97,
     "metadata": {},
     "output_type": "execute_result"
    }
   ],
   "source": [
    "# Assign weight per sample\n",
    "sample_weights = class_weights[torch.tensor(df_train[target], dtype=torch.long)]\n",
    "sample_weights[:5]"
   ]
  },
  {
   "cell_type": "code",
   "execution_count": 98,
   "id": "a2f56fdb",
   "metadata": {},
   "outputs": [],
   "source": [
    "from torch.utils.data import WeightedRandomSampler\n",
    "sampler = WeightedRandomSampler(\n",
    "    weights=sample_weights,\n",
    "    num_samples=len(sample_weights),  # draw as many as dataset size per epoch\n",
    "    replacement=True                  # allows resampling rare class more often\n",
    ")"
   ]
  },
  {
   "cell_type": "code",
   "execution_count": 99,
   "id": "652bd6ff",
   "metadata": {},
   "outputs": [
    {
     "name": "stdout",
     "output_type": "stream",
     "text": [
      "Feature batch shape: torch.Size([256, 11])\n",
      "Labels batch shape: torch.Size([256])\n"
     ]
    }
   ],
   "source": [
    "train_loader_s = DataLoader(train_ds, batch_size=256, sampler=sampler, shuffle=False)\n",
    "train_features_s, train_labels_s = next(iter(train_loader_s))\n",
    "print(f\"Feature batch shape: {train_features_s.size()}\")\n",
    "print(f\"Labels batch shape: {train_labels_s.size()}\")"
   ]
  },
  {
   "cell_type": "code",
   "execution_count": 100,
   "id": "383a784d",
   "metadata": {},
   "outputs": [
    {
     "data": {
      "text/plain": [
       "tensor(0.5078, dtype=torch.float64)"
      ]
     },
     "execution_count": 100,
     "metadata": {},
     "output_type": "execute_result"
    }
   ],
   "source": [
    "train_labels_s.mean()"
   ]
  },
  {
   "cell_type": "code",
   "execution_count": 101,
   "id": "3dd7d765",
   "metadata": {},
   "outputs": [
    {
     "name": "stdout",
     "output_type": "stream",
     "text": [
      "[[1, 2, 3], [1, 2], [1, 2, 3, 4, 1, 5], [6, 7, 8]]\n"
     ]
    }
   ],
   "source": [
    "sentences = [\n",
    "    \"the cat sat\",\n",
    "    \"the cat\",\n",
    "    \"the cat sat on the mat\",\n",
    "    \"dog barked loudly\"\n",
    "]\n",
    "labels = [0, 0, 1, 1]  # pretend binary classes\n",
    "\n",
    "# toy vocab\n",
    "vocab = {\"<PAD>\": 0, \"the\": 1, \"cat\": 2, \"sat\": 3, \"on\": 4, \"mat\": 5, \"dog\": 6, \"barked\": 7, \"loudly\": 8}\n",
    "\n",
    "# tokenize\n",
    "tokenized = [[vocab[w] for w in s.split()] for s in sentences]\n",
    "print(tokenized)"
   ]
  },
  {
   "cell_type": "code",
   "execution_count": 106,
   "id": "657b381b",
   "metadata": {},
   "outputs": [],
   "source": [
    "# - Write a collate_fn that pads sequences to same length\n",
    "class ToyTextData(Dataset):\n",
    "    def __init__(self, data, labels, transform=None, target_transform=None):\n",
    "        self.data = data\n",
    "        self.labels = labels\n",
    "\n",
    "    def __len__(self):\n",
    "        return len(self.labels)\n",
    "\n",
    "    def __getitem__(self, idx):\n",
    "        # Embedding layers in PyTorch (nn.Embedding) expect LongTensor\n",
    "        # Classification with nn.CrossEntropyLoss (multi-class) eants Labels as class indices (torch.long)\n",
    "        return torch.tensor(self.data[idx], dtype=torch.long), torch.tensor(self.labels[idx], dtype=torch.long)\n",
    "    \n",
    "\n",
    "def pad_collate_fn(batch):\n",
    "    # batch is list of (seq, label) pairs\n",
    "    sequences, labels = zip(*batch)\n",
    "    # PyTorch collate_fn usually does dynamic padding, padded to the longest length of the batch\n",
    "    lengths = [len(x) for x in sequences]\n",
    "    max_len = max(lengths)\n",
    "    padded = torch.zeros(len(sequences), max_len, dtype=torch.long)  # 0 = <PAD>\n",
    "    for i, seq in enumerate(sequences):\n",
    "        padded[i, :len(seq)] = seq\n",
    "    # Dataset.__getitem__ already returns a tensor for the label, use torch.stack(ys)\n",
    "    return padded, torch.stack(labels), torch.tensor(lengths)"
   ]
  },
  {
   "cell_type": "code",
   "execution_count": 110,
   "id": "48e92348",
   "metadata": {},
   "outputs": [],
   "source": [
    "text_ds = ToyTextData(tokenized, labels)\n",
    "loader = DataLoader(text_ds, batch_size=5, collate_fn = pad_collate_fn)"
   ]
  },
  {
   "cell_type": "code",
   "execution_count": 111,
   "id": "f96aef42",
   "metadata": {},
   "outputs": [
    {
     "data": {
      "text/plain": [
       "tensor([[1, 2, 3, 0, 0, 0],\n",
       "        [1, 2, 0, 0, 0, 0],\n",
       "        [1, 2, 3, 4, 1, 5],\n",
       "        [6, 7, 8, 0, 0, 0]])"
      ]
     },
     "execution_count": 111,
     "metadata": {},
     "output_type": "execute_result"
    }
   ],
   "source": [
    "text_features, text_labels, text_length = next(iter(loader))\n",
    "text_features"
   ]
  }
 ],
 "metadata": {
  "kernelspec": {
   "display_name": "representation_learning",
   "language": "python",
   "name": "python3"
  },
  "language_info": {
   "codemirror_mode": {
    "name": "ipython",
    "version": 3
   },
   "file_extension": ".py",
   "mimetype": "text/x-python",
   "name": "python",
   "nbconvert_exporter": "python",
   "pygments_lexer": "ipython3",
   "version": "3.11.0"
  }
 },
 "nbformat": 4,
 "nbformat_minor": 5
}
